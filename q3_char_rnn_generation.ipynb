{
  "cells": [
    {
      "cell_type": "markdown",
      "metadata": {
        "id": "XPKTqQ3W8qLt"
      },
      "source": [
        "To begin copy this notebook to your own drive:\n",
        "\n",
        "![image.png](data:image/png;base64,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)\n",
        "\n",
        "\n",
        "### Submission Instructions:\n",
        "1. **Restart the kernel** (in the menubar, select Runtime$\\rightarrow$Restart runtime)\n",
        "2. **Run all cells** (in the menubar, select Runtime$\\rightarrow$Run All).\n",
        "3. **Download the notebook** (in the menubar, select File$\\rightarrow$Download .ipynb)\n",
        "4. **Upload the downloaded notebook (.ipynb file) to your repository**.\n",
        "\n",
        "Note: To use a GPU, do the following: Runtime$\\rightarrow$Change runtime type$\\rightarrow$ GPU\n",
        "\n",
        "Make sure you fill in any place that says `YOUR CODE HERE`, and that no tests fail.  "
      ]
    },
    {
      "cell_type": "markdown",
      "metadata": {
        "deletable": false,
        "editable": false,
        "id": "XvPkt7Zm8qLt",
        "nbgrader": {
          "cell_type": "markdown",
          "checksum": "5493400e8b7f9a8e2cde874866d4fa7f",
          "grade": false,
          "grade_id": "cell-3a1bca1dbb7d0069",
          "locked": true,
          "schema_version": 3,
          "solution": false,
          "task": false
        }
      },
      "source": [
        "![shakespeare](https://i.imgur.com/81YZuel.jpg)\n",
        "\n",
        "# Generating Shakespeare Using a Character-level Language Model\n",
        "\n",
        "### From Words to Characters\n",
        "In the previous two sections we dealt with word-level language models. But looking again at section 2, there is nothing that constraints us to using _words_ as the basic elemnents in our model. The model we analyzed in section 2 could just as well be character-based - just replace \"word\" with \"character\", and you are good to go. In this notebook we will train a small character-based language model that will help us generate Shakespearean-like (emphasis on the _like_...) texts."
      ]
    },
    {
      "cell_type": "markdown",
      "metadata": {
        "deletable": false,
        "editable": false,
        "id": "EvGyr_ux8qLt",
        "nbgrader": {
          "cell_type": "markdown",
          "checksum": "9af7a343d0e3524c3fd846d987d766a8",
          "grade": false,
          "grade_id": "cell-7301754e4d655d01",
          "locked": true,
          "schema_version": 3,
          "solution": false,
          "task": false
        }
      },
      "source": [
        "### Question 3.a\n",
        "Can you think of an advantage a character-based language model could have over a word-based language model? And what about the other way around: can you think of an advantage a word-based language model could have over a character-based language model? (Add your answer to the final submission pdf)."
      ]
    },
    {
      "cell_type": "markdown",
      "metadata": {
        "deletable": false,
        "editable": false,
        "id": "ghCevRFf8qLt",
        "nbgrader": {
          "cell_type": "markdown",
          "checksum": "d46a8dfd340b8f68e51a041307f7d7d3",
          "grade": false,
          "grade_id": "cell-ebc0d8ae3061c0fc",
          "locked": true,
          "schema_version": 3,
          "solution": false,
          "task": false
        }
      },
      "source": [
        "### Using PyTorch\n",
        "\n",
        "We'll build our language model using PyTorch. PyTorch is a [very popular](https://thegradient.pub/state-of-ml-frameworks-2019-pytorch-dominates-research-tensorflow-dominates-industry/) open-source machine learning (and deep learning) framework developed by Facebook. In short:\n",
        "\n",
        "> Pytorch is a Python-based scientific computing package targeted at two sets of audiences:\n",
        "* A replacement for NumPy to use the power of GPUs\n",
        "* A deep learning research platform that provides maximum flexibility and speed\n",
        "\n",
        "To get familiar with PyTorch, check out this [quick tutorial](https://pytorch.org/tutorials/beginner/blitz/tensor_tutorial.html). In addition, another imporant difference from numpy is that PyTorch can automatically calculate the gradients needed for backpropagation, as explained [here](https://pytorch.org/tutorials/beginner/blitz/autograd_tutorial.html)."
      ]
    },
    {
      "cell_type": "markdown",
      "metadata": {
        "deletable": false,
        "editable": false,
        "id": "MYd79g6k8qLt",
        "nbgrader": {
          "cell_type": "markdown",
          "checksum": "02af8a21a2e8fae58d84f915de5b016d",
          "grade": false,
          "grade_id": "cell-aa2773db1bef7014",
          "locked": true,
          "schema_version": 3,
          "solution": false,
          "task": false
        }
      },
      "source": [
        "### Preparing the Data\n",
        "\n",
        "Our dataset is a plain text file. For simplicity, we turn any potential unicode characters into plain ASCII by using the `unidecode` package."
      ]
    },
    {
      "cell_type": "code",
      "execution_count": 1,
      "metadata": {
        "colab": {
          "base_uri": "https://localhost:8080/"
        },
        "id": "OT5WdSbsFT1K",
        "outputId": "ce251bc4-a9e3-4a7f-b64a-bf050278399f"
      },
      "outputs": [
        {
          "name": "stdout",
          "output_type": "stream",
          "text": [
            "Collecting unidecode\n",
            "  Downloading Unidecode-1.3.8-py3-none-any.whl.metadata (13 kB)\n",
            "Downloading Unidecode-1.3.8-py3-none-any.whl (235 kB)\n",
            "\u001b[?25l   \u001b[90m━━━━━━━━━━━━━━━━━━━━━━━━━━━━━━━━━━━━━━━━\u001b[0m \u001b[32m0.0/235.5 kB\u001b[0m \u001b[31m?\u001b[0m eta \u001b[36m-:--:--\u001b[0m\r\u001b[2K   \u001b[91m━━━━━━━━━━━━━━━━━━━━━━━━━━━━━━━━━━━━━━\u001b[0m\u001b[90m╺\u001b[0m\u001b[90m━\u001b[0m \u001b[32m225.3/235.5 kB\u001b[0m \u001b[31m7.0 MB/s\u001b[0m eta \u001b[36m0:00:01\u001b[0m\r\u001b[2K   \u001b[90m━━━━━━━━━━━━━━━━━━━━━━━━━━━━━━━━━━━━━━━━\u001b[0m \u001b[32m235.5/235.5 kB\u001b[0m \u001b[31m5.5 MB/s\u001b[0m eta \u001b[36m0:00:00\u001b[0m\n",
            "\u001b[?25hInstalling collected packages: unidecode\n",
            "Successfully installed unidecode-1.3.8\n"
          ]
        }
      ],
      "source": [
        "!pip install unidecode"
      ]
    },
    {
      "cell_type": "code",
      "execution_count": 2,
      "metadata": {
        "colab": {
          "base_uri": "https://localhost:8080/"
        },
        "deletable": false,
        "editable": false,
        "id": "RYqFoQgV8qLt",
        "nbgrader": {
          "cell_type": "code",
          "checksum": "ef0359e8c08b2057771c115150011e7e",
          "grade": false,
          "grade_id": "cell-cce75419c097f3fd",
          "locked": true,
          "schema_version": 3,
          "solution": false,
          "task": false
        },
        "outputId": "ed245cf7-8637-4ec0-c3de-33a68906e809",
        "pycharm": {
          "is_executing": false
        }
      },
      "outputs": [
        {
          "name": "stdout",
          "output_type": "stream",
          "text": [
            "Total number of characters in our dataset: 1115394\n"
          ]
        }
      ],
      "source": [
        "import string\n",
        "import random\n",
        "import re\n",
        "import requests\n",
        "import unidecode\n",
        "url = \"https://github.com/tau-nlp-course/NLP_HW2/raw/main/data/shakespeare.txt\"\n",
        "\n",
        "\n",
        "all_characters = string.printable\n",
        "n_characters = len(all_characters)  # our vocabulary size (|V| from the handout)\n",
        "\n",
        "dataset_as_string = unidecode.unidecode(requests.get(url).content.decode())\n",
        "n_chars_in_dataset = len(dataset_as_string)\n",
        "print(f'Total number of characters in our dataset: {n_chars_in_dataset}')"
      ]
    },
    {
      "cell_type": "markdown",
      "metadata": {
        "deletable": false,
        "editable": false,
        "id": "mIctyT3J8qLu",
        "nbgrader": {
          "cell_type": "markdown",
          "checksum": "06dd2ac91a6296206475c7e330e53e3d",
          "grade": false,
          "grade_id": "cell-d795f907dd7922f3",
          "locked": true,
          "schema_version": 3,
          "solution": false,
          "task": false
        }
      },
      "source": [
        "To make inputs out of this big string of text, we will split it into chunks."
      ]
    },
    {
      "cell_type": "code",
      "execution_count": 3,
      "metadata": {
        "colab": {
          "base_uri": "https://localhost:8080/"
        },
        "deletable": false,
        "editable": false,
        "id": "eoLs0ivz8qLu",
        "nbgrader": {
          "cell_type": "code",
          "checksum": "61947ad22fb7f16eba246d47ab8cae22",
          "grade": false,
          "grade_id": "cell-379f229536dae19b",
          "locked": true,
          "schema_version": 3,
          "solution": false,
          "task": false
        },
        "outputId": "ed53c084-1347-4715-e1d2-e63b3a428bac",
        "pycharm": {
          "is_executing": false
        }
      },
      "outputs": [
        {
          "name": "stdout",
          "output_type": "stream",
          "text": [
            " be as great as we?\n",
            "Greater he shall not be; if he serve God,\n",
            "We'll serve Him too and be his fellow so:\n",
            "Revolt our subjects? that we cannot mend;\n",
            "They break their faith to God as well as us:\n",
            "Cry woe, destruction, ruin and decay:\n",
            "The worst is death, and death will have his day.\n",
            "\n",
            "SIR STEPHEN SCROOP:\n",
            "Glad am I that your highness is so arm'd\n",
            "To bear the tidings of calamity.\n",
            "Like an unseasonable stormy \n"
          ]
        }
      ],
      "source": [
        "chunk_len = 400\n",
        "\n",
        "def random_chunk():\n",
        "    start_index = random.randint(0, n_chars_in_dataset - chunk_len)\n",
        "    end_index = start_index + chunk_len + 1\n",
        "    return dataset_as_string[start_index:end_index]\n",
        "\n",
        "print(random_chunk())"
      ]
    },
    {
      "cell_type": "markdown",
      "metadata": {
        "deletable": false,
        "editable": false,
        "id": "ho8WlUcV8qLv",
        "nbgrader": {
          "cell_type": "markdown",
          "checksum": "ba5d4900ff254fa335fe935962878c8d",
          "grade": false,
          "grade_id": "cell-fcbb2d73f4e442fb",
          "locked": true,
          "schema_version": 3,
          "solution": false,
          "task": false
        }
      },
      "source": [
        "### Building Our Model\n",
        "\n",
        "Our model consists of three main components:\n",
        "\n",
        "1. [**Embedding**](https://pytorch.org/docs/stable/nn.html#embedding). A mapping between characters and their learned representations (\"word vectors\") \\[correspoding to ${\\boldsymbol L}$ in terms of the handout\\]\n",
        "2. [**GRU**](https://pytorch.org/docs/stable/nn.html#gru). \\[correspoding to the computation of ${\\boldsymbol h}^{(t)}$ in terms of the handout\\]\n",
        "3. **Output Layer**. A feed-forward neural network that transforms a hidden state at a timestep into a probability distribution of the next character. \\[correspoding to the computation of $\\hat{\\boldsymbol y}^{(t)}$ in terms of the handout\\]"
      ]
    },
    {
      "cell_type": "markdown",
      "metadata": {
        "id": "KFm8g2pd8qLv"
      },
      "source": [
        "### Question 3.b\n",
        "Complete the implementation of the `forward` method of our model."
      ]
    },
    {
      "cell_type": "code",
      "execution_count": 4,
      "metadata": {
        "deletable": false,
        "id": "2SoCQ_ZM8qLv",
        "nbgrader": {
          "cell_type": "code",
          "checksum": "a9ad1239fcd5aec23f439249397895ec",
          "grade": false,
          "grade_id": "cell-1640492438386e87",
          "locked": false,
          "schema_version": 3,
          "solution": true,
          "task": false
        },
        "pycharm": {
          "is_executing": false
        }
      },
      "outputs": [],
      "source": [
        "import torch\n",
        "import torch.nn as nn\n",
        "from torch.autograd import Variable\n",
        "\n",
        "class OurModel(nn.Module):\n",
        "    def __init__(self, input_size, hidden_size, output_size, num_layers=1):\n",
        "        super(OurModel, self).__init__()\n",
        "        self.input_size = input_size\n",
        "        self.hidden_size = hidden_size\n",
        "        self.output_size = output_size\n",
        "        self.num_layers = num_layers\n",
        "\n",
        "        self.embedding = nn.Embedding(input_size, hidden_size)  # In the terms of the handout, here d = D_h\n",
        "        self.gru = nn.GRU(hidden_size, hidden_size, num_layers)\n",
        "        self.output_layer = nn.Linear(hidden_size, output_size)\n",
        "\n",
        "    def forward(self, input_, hidden):\n",
        "        # General instructions:\n",
        "        # Pass the embedded input through the GRU and use the output layer to get the next character distribution.\n",
        "        # return that distribution and the next hidden state.\n",
        "        # You may need to play around with the dimensions a bit until you get it right. Dimension-induced frustration is good for you!\n",
        "        # -------------------------\n",
        "        embedded_input = self.embedding(input_).view(1,1,-1)\n",
        "        output, hidden = self.gru(embedded_input, hidden)\n",
        "        output = self.output_layer(output.view(1,-1))\n",
        "        # -------------------------\n",
        "        return output, hidden\n",
        "\n",
        "    def init_hidden(self):\n",
        "        return Variable(torch.zeros(self.num_layers, 1, self.hidden_size))"
      ]
    },
    {
      "cell_type": "markdown",
      "metadata": {
        "deletable": false,
        "editable": false,
        "id": "aZWMbY1o8qLv",
        "nbgrader": {
          "cell_type": "markdown",
          "checksum": "da793a49917dc4882e7e70f04d07a777",
          "grade": false,
          "grade_id": "cell-b9299fddeb082b4e",
          "locked": true,
          "schema_version": 3,
          "solution": false,
          "task": false
        }
      },
      "source": [
        "### Creating the Training Examples"
      ]
    },
    {
      "cell_type": "markdown",
      "metadata": {
        "deletable": false,
        "editable": false,
        "id": "B-ngTV6Q8qLv",
        "nbgrader": {
          "cell_type": "markdown",
          "checksum": "f6eaeb80c370b32f26eda2ac1be57444",
          "grade": false,
          "grade_id": "cell-83bf9e1b0374206c",
          "locked": true,
          "schema_version": 3,
          "solution": false,
          "task": false
        }
      },
      "source": [
        "Each chunk will be turned into a tensor by looping through the characters of the string and looking up the index of each character in `all_characters`."
      ]
    },
    {
      "cell_type": "code",
      "execution_count": 5,
      "metadata": {
        "colab": {
          "base_uri": "https://localhost:8080/"
        },
        "deletable": false,
        "editable": false,
        "id": "98wyNtkw8qLv",
        "nbgrader": {
          "cell_type": "code",
          "checksum": "cc87bca342db2fde1b3957f48bcfe857",
          "grade": false,
          "grade_id": "cell-5360afdd0b03b1f4",
          "locked": true,
          "schema_version": 3,
          "solution": false,
          "task": false
        },
        "outputId": "43bb6a0d-7a9e-45b6-ca6f-722ed9e4a700",
        "pycharm": {
          "is_executing": false
        }
      },
      "outputs": [
        {
          "name": "stdout",
          "output_type": "stream",
          "text": [
            "tensor([10, 11, 12, 39, 40, 41])\n"
          ]
        }
      ],
      "source": [
        "# Turn a string into list of longs\n",
        "def chars_to_tensor(string):\n",
        "    tensor = torch.zeros(len(string)).long()\n",
        "    for c in range(len(string)):\n",
        "        tensor[c] = all_characters.index(string[c])\n",
        "    return Variable(tensor)\n",
        "\n",
        "print(chars_to_tensor('abcDEF'))"
      ]
    },
    {
      "cell_type": "markdown",
      "metadata": {
        "deletable": false,
        "editable": false,
        "id": "cYh_R1K88qLv",
        "nbgrader": {
          "cell_type": "markdown",
          "checksum": "f7fab2aa0d22a697fcc3d675b1821875",
          "grade": false,
          "grade_id": "cell-6e7b3d9e8c9396bb",
          "locked": true,
          "schema_version": 3,
          "solution": false,
          "task": false
        }
      },
      "source": [
        "Now we can assemble a pair of input and target tensors (i.e. a single training example) for training, from a random chunk. The input will be all characters *except the last*, and the target will be all characters *except the first*. So if our chunk is \"abc\" the input will correspond to \"ab\" while the target is \"bc\"."
      ]
    },
    {
      "cell_type": "code",
      "execution_count": 6,
      "metadata": {
        "deletable": false,
        "editable": false,
        "id": "QFDYhW3a8qLv",
        "nbgrader": {
          "cell_type": "code",
          "checksum": "adf90d7ec6728b2f45d1e8de5c47203c",
          "grade": false,
          "grade_id": "cell-d3539c5f1d96a188",
          "locked": true,
          "schema_version": 3,
          "solution": false,
          "task": false
        },
        "pycharm": {
          "is_executing": false
        }
      },
      "outputs": [],
      "source": [
        "def random_training_set():\n",
        "    chunk = random_chunk()\n",
        "    inp = chars_to_tensor(chunk[:-1])\n",
        "    target = chars_to_tensor(chunk[1:])\n",
        "    return inp, target"
      ]
    },
    {
      "cell_type": "markdown",
      "metadata": {
        "deletable": false,
        "editable": false,
        "id": "eU6VTX8F8qLv",
        "nbgrader": {
          "cell_type": "markdown",
          "checksum": "18a6bf800d9bc590739b15ba01dda408",
          "grade": false,
          "grade_id": "cell-16d13f3b273395ac",
          "locked": true,
          "schema_version": 3,
          "solution": false,
          "task": false
        }
      },
      "source": [
        "### Evaluating\n",
        "\n",
        "To evaluate the network we will feed one character at a time, use the outputs of the network as a probability distribution for the next character, and repeat. To start generation we pass a priming string to start building up the hidden state, from which we then generate one character at a time."
      ]
    },
    {
      "cell_type": "code",
      "execution_count": 7,
      "metadata": {
        "deletable": false,
        "editable": false,
        "id": "xeoACNc78qLv",
        "nbgrader": {
          "cell_type": "code",
          "checksum": "a47c721a818979b886f119401206e756",
          "grade": false,
          "grade_id": "cell-44ab27a8fee696ad",
          "locked": true,
          "schema_version": 3,
          "solution": false,
          "task": false
        },
        "pycharm": {
          "is_executing": false
        }
      },
      "outputs": [],
      "source": [
        "import torch.nn.functional as F\n",
        "\n",
        "def evaluate(prime_str='A', predict_len=100, temperature=0.8):\n",
        "    hidden = model.init_hidden()\n",
        "    prime_input = chars_to_tensor(prime_str)\n",
        "    predicted = prime_str\n",
        "\n",
        "    # Use priming string to \"build up\" hidden state\n",
        "    for p in range(len(prime_str) - 1):\n",
        "        _, hidden = model(prime_input[p], hidden)\n",
        "    inp = prime_input[-1]\n",
        "\n",
        "    for p in range(predict_len):\n",
        "        output, hidden = model(inp, hidden)\n",
        "\n",
        "        # Sample from the network as a multinomial distribution\n",
        "        output_dist =  F.softmax(output / temperature, dim=-1)\n",
        "        top_i = torch.multinomial(output_dist, 1)[0]\n",
        "\n",
        "        # Add predicted character to string and use as next input\n",
        "        predicted_char = all_characters[top_i]\n",
        "        predicted += predicted_char\n",
        "        inp = chars_to_tensor(predicted_char)\n",
        "\n",
        "    return predicted"
      ]
    },
    {
      "cell_type": "markdown",
      "metadata": {
        "deletable": false,
        "editable": false,
        "id": "iNmsUvyM8qLv",
        "nbgrader": {
          "cell_type": "markdown",
          "checksum": "3fffa10554299eaae14cc007fea3935a",
          "grade": false,
          "grade_id": "cell-1d3fd015fe8f64d1",
          "locked": true,
          "schema_version": 3,
          "solution": false,
          "task": false
        }
      },
      "source": [
        "### Training"
      ]
    },
    {
      "cell_type": "markdown",
      "metadata": {
        "deletable": false,
        "editable": false,
        "id": "AiCVg5Ec8qLv",
        "nbgrader": {
          "cell_type": "markdown",
          "checksum": "8a98218b35f47137eeba1ba1aead0700",
          "grade": false,
          "grade_id": "cell-a209b293a8850a57",
          "locked": true,
          "schema_version": 3,
          "solution": false,
          "task": false
        }
      },
      "source": [
        "The main training function"
      ]
    },
    {
      "cell_type": "code",
      "execution_count": 8,
      "metadata": {
        "deletable": false,
        "editable": false,
        "id": "Wug0q2Me8qLv",
        "nbgrader": {
          "cell_type": "code",
          "checksum": "eb3bfcd4d49b2f2672447d8c65b6cb05",
          "grade": false,
          "grade_id": "cell-e246cbd9689e1a6d",
          "locked": true,
          "schema_version": 3,
          "solution": false,
          "task": false
        },
        "pycharm": {
          "is_executing": false
        }
      },
      "outputs": [],
      "source": [
        "def train(inp, target):\n",
        "    hidden = model.init_hidden()\n",
        "    model.zero_grad()\n",
        "    loss = 0\n",
        "\n",
        "    for c in range(chunk_len):\n",
        "        output, hidden = model(inp[c], hidden)\n",
        "        loss += criterion(output, target[c].view(-1))\n",
        "\n",
        "    loss.backward()\n",
        "    optimizer.step()\n",
        "\n",
        "    return loss.item() / chunk_len"
      ]
    },
    {
      "cell_type": "markdown",
      "metadata": {
        "deletable": false,
        "editable": false,
        "id": "hFBSiQqS8qLv",
        "nbgrader": {
          "cell_type": "markdown",
          "checksum": "bfb863e279db4b170c35d8d0c7a37a1f",
          "grade": false,
          "grade_id": "cell-05ce9b9275e0d1cc",
          "locked": true,
          "schema_version": 3,
          "solution": false,
          "task": false
        }
      },
      "source": [
        "A helper to print the amount of time passed:"
      ]
    },
    {
      "cell_type": "code",
      "execution_count": 9,
      "metadata": {
        "deletable": false,
        "editable": false,
        "id": "vIzUAL-a8qLv",
        "nbgrader": {
          "cell_type": "code",
          "checksum": "16d7b53f211a6a1bef71c1dd2d1271cf",
          "grade": false,
          "grade_id": "cell-cb78afef7022f9a1",
          "locked": true,
          "schema_version": 3,
          "solution": false,
          "task": false
        },
        "pycharm": {
          "is_executing": false
        }
      },
      "outputs": [],
      "source": [
        "import time, math\n",
        "\n",
        "def time_since(since):\n",
        "    s = time.time() - since\n",
        "    m = math.floor(s / 60)\n",
        "    s -= m * 60\n",
        "    return f'{m}m {math.floor(s)}s'"
      ]
    },
    {
      "cell_type": "code",
      "execution_count": 10,
      "metadata": {
        "deletable": false,
        "editable": false,
        "id": "pAlXhasn8qLv",
        "nbgrader": {
          "cell_type": "code",
          "checksum": "2b368f1767ddd0eddca44249fa47ed32",
          "grade": true,
          "grade_id": "cell-98f46bec0b8c87cc",
          "locked": true,
          "points": 10,
          "schema_version": 3,
          "solution": false,
          "task": false
        }
      },
      "outputs": [],
      "source": [
        "# DO NOT DELETE THIS CELL\n"
      ]
    },
    {
      "cell_type": "markdown",
      "metadata": {
        "deletable": false,
        "editable": false,
        "id": "0Xva5o5I8qLv",
        "nbgrader": {
          "cell_type": "markdown",
          "checksum": "98abd7dd7805753c2e7b635f1265cb73",
          "grade": false,
          "grade_id": "cell-baf25642209867dc",
          "locked": true,
          "schema_version": 3,
          "solution": false,
          "task": false
        }
      },
      "source": [
        "Define the training parameters, instantiate the model, and start training:"
      ]
    },
    {
      "cell_type": "code",
      "execution_count": 11,
      "metadata": {
        "colab": {
          "base_uri": "https://localhost:8080/"
        },
        "deletable": false,
        "editable": false,
        "id": "pRLHP-UQ8qLw",
        "nbgrader": {
          "cell_type": "code",
          "checksum": "ab44452ad9f838e0b56e1fc154ab6125",
          "grade": false,
          "grade_id": "cell-4900f92ae503be69",
          "locked": true,
          "schema_version": 3,
          "solution": false,
          "task": false
        },
        "outputId": "1df0a0e2-66fc-4e48-dbc0-ac609f06e779",
        "pycharm": {
          "is_executing": false
        }
      },
      "outputs": [
        {
          "name": "stdout",
          "output_type": "stream",
          "text": [
            "[time elapsed: 0m 28s  ;  epochs: 100 (5.0%)  ;  loss: 2.174]\n",
            "When thos the uxop muston int nimy,Thing, thect hame bust the an\n",
            "Whed kund pris and thiss denexs ton owand thable cou hake satse gut and thoungin his lin;\n",
            "Sut cou; ton hin ingh wren, mathiit mis; ine me \n",
            "\n",
            "[time elapsed: 0m 56s  ;  epochs: 200 (10.0%)  ;  loss: 2.073]\n",
            "Why mang wher pleses, of but omatle sake it weet god fall thaw the not goding be.\n",
            "\n",
            "SARGF not gove lon.\n",
            "O of cowake the hay stire to ere,\n",
            "In the saccome for on taraut your tou lork.\n",
            "\n",
            "MII that shall yo; p \n",
            "\n",
            "[time elapsed: 1m 25s  ;  epochs: 300 (15.0%)  ;  loss: 2.026]\n",
            "Whalt meny\n",
            "Prestiren,\n",
            "We reed of and noged jut in uneme sarce there and we me whee cawer thy shome of me wilr, the ifis nove in off am\n",
            "Theur they, the and destiven, that his then, not of in hanss in wou \n",
            "\n",
            "[time elapsed: 1m 53s  ;  epochs: 400 (20.0%)  ;  loss: 2.001]\n",
            "Whe heast the what, chost you comen to wath we me from my gain my book nots the cave case unpang the honnore come treselougly youn the say sain but have the el at he counkin he lided; to not of swith co \n",
            "\n",
            "[time elapsed: 2m 20s  ;  epochs: 500 (25.0%)  ;  loss: 2.028]\n",
            "What was poor the make that the forp thee your best whele to thou tane.\n",
            "\n",
            "LUCHHAMON:\n",
            "The soon shall for men is thou arty your the thou have thee come have the self wow, your fill, whee detaness ort the b \n",
            "\n",
            "[time elapsed: 2m 48s  ;  epochs: 600 (30.0%)  ;  loss: 1.787]\n",
            "Whis sherer server could: he grisuns an I at trencent my so is is the hath bed and nothrefull sed thou for listaigh;'d this come sice fall am Citers\n",
            "Proe you wicor prower:\n",
            "Shout thear herer dake oul sun \n",
            "\n",
            "[time elapsed: 3m 16s  ;  epochs: 700 (35.0%)  ;  loss: 1.73]\n",
            "Why, I his is thee thou doth hats and peach a complalle\n",
            "To Hear hein an it the make hences am thear\n",
            "Go moughting thou wanders and a speak him\n",
            "Thou down of in his gave shath and kanners!\n",
            "\n",
            "Thimes:\n",
            "And his \n",
            "\n",
            "[time elapsed: 3m 43s  ;  epochs: 800 (40.0%)  ;  loss: 1.937]\n",
            "Whe masten.\n",
            "\n",
            "CORIOLANUS:\n",
            "My dave is mine for used that.\n",
            "\n",
            "COLIXENES:\n",
            "Master sow hondster of the should\n",
            "and it my lord sord. Then the pleat to shearvet. Ichange with fainiceself\n",
            "Thou shen them asten\n",
            "So, o \n",
            "\n",
            "[time elapsed: 4m 10s  ;  epochs: 900 (45.0%)  ;  loss: 1.893]\n",
            "Whis chan your viall, of Sently comburts,\n",
            "Which Lords doth not beed\n",
            "Less, overy with his latis much he now sheen:\n",
            "Which to this provererly again,\n",
            "Were I viiloned, that my warry seeple and sears,\n",
            "And end \n",
            "\n",
            "[time elapsed: 4m 37s  ;  epochs: 1000 (50.0%)  ;  loss: 1.758]\n",
            "Whand,\n",
            "Art you good to truish this from this lease:\n",
            "Masty to hast pepard that your world my lield yourth with me bethel dest hand:\n",
            "Sirce deast:\n",
            "A core the commands, your slaw him be these indrinces.\n",
            "\n",
            "OR \n",
            "\n",
            "[time elapsed: 5m 4s  ;  epochs: 1100 (55.00000000000001%)  ;  loss: 1.714]\n",
            "Whimbranst my from from of sir?\n",
            "\n",
            "KING RICHARD II:\n",
            "You this the feathers go thou parth then here uncle,\n",
            "To down his wormes, he pramens;\n",
            "Till you world shat's so very of my wind,\n",
            "Yentter of than reading f \n",
            "\n",
            "[time elapsed: 5m 31s  ;  epochs: 1200 (60.0%)  ;  loss: 1.866]\n",
            "Why not whan head; shall he writher and heirament.\n",
            "To have him enced tous\n",
            "Here for resany is, heaves; To heaven betce son blain!\n",
            "\n",
            "MENENDIUS:\n",
            "If will by youd my but the gone, what, many, Richer\n",
            "be, leave \n",
            "\n",
            "[time elapsed: 5m 57s  ;  epochs: 1300 (65.0%)  ;  loss: 1.857]\n",
            "Whose in sirst that\n",
            "\n",
            "Pity in: hadnd's itwith.\n",
            "\n",
            "RICHMOLEN:\n",
            "Af master To thy wade, sip\n",
            "Upon thy world it thy pray to unterilie?\n",
            "\n",
            "RARDINA:\n",
            "End who lies to they\n",
            "And look a live standing not lown you say of  \n",
            "\n",
            "[time elapsed: 6m 24s  ;  epochs: 1400 (70.0%)  ;  loss: 1.776]\n",
            "Whound to I'll the will I.\n",
            "\n",
            "First Some:\n",
            "I good is me love upon ad doun.\n",
            "\n",
            "GUCHIONES:\n",
            "My love, my homelk.\n",
            "\n",
            "CAMILLO:\n",
            "If in the and the prick forefursband brotherch-\n",
            "The woe's have of my head to thou have t \n",
            "\n",
            "[time elapsed: 6m 51s  ;  epochs: 1500 (75.0%)  ;  loss: 1.503]\n",
            "Whine, him do forth:\n",
            "Have and mating he so the see to with conds:\n",
            "And and I warreccoldience, the compain:\n",
            "Ale Clate,--condone's upon over,\n",
            "And heressant is of the purence dower say, then,\n",
            "Where I sing a \n",
            "\n",
            "[time elapsed: 7m 17s  ;  epochs: 1600 (80.0%)  ;  loss: 1.843]\n",
            "Whis so musech the preadio!\n",
            "\n",
            "Noor: lord! what siends, where? I'll hears,\n",
            "That heart hath and do see deseriveron!\n",
            "\n",
            "First Cardimer:\n",
            "Is thet be and o' lost of my lord too slessed greath\n",
            "When throw will and \n",
            "\n",
            "[time elapsed: 7m 44s  ;  epochs: 1700 (85.0%)  ;  loss: 1.933]\n",
            "What the pring of who rest your so, of me\n",
            "Than for the man of this strept you sir;\n",
            "For that like in to Rome betled,\n",
            "What not me, on sun histand pleads: how thou roothed thou dray that to is\n",
            "Our tend mak \n",
            "\n",
            "[time elapsed: 8m 10s  ;  epochs: 1800 (90.0%)  ;  loss: 1.948]\n",
            "Which thou song in my like not\n",
            "Seep the enough, be the repayn-elfore friets it we shoulders,\n",
            "And nelive the tunsterow:\n",
            "Nay so! to his barmbing him then neeps!\n",
            "\n",
            "FLORE:\n",
            "Has here be good thou not is the so \n",
            "\n",
            "[time elapsed: 8m 37s  ;  epochs: 1900 (95.0%)  ;  loss: 1.617]\n",
            "Whis the true of thing\n",
            "That she with the so, fair torded leng his let in me,\n",
            "Them stand powed him in the prey\n",
            "Thou will to plaw all by trught to stall beil amon my Pood,\n",
            "And that the many that this are- \n",
            "\n",
            "[time elapsed: 9m 3s  ;  epochs: 2000 (100.0%)  ;  loss: 1.816]\n",
            "What\n",
            "Sitter that the hands oult abous\n",
            "Of that has me;\n",
            "And who men Julieeted this and marric I marry hath it is that madness in,\n",
            "Mighe thust there the bessure of of Romeo,\n",
            "Your heare to he meak in are\n",
            "An \n",
            "\n"
          ]
        }
      ],
      "source": [
        "n_epochs = 2000\n",
        "print_every = 100\n",
        "plot_every = 10\n",
        "hidden_size = 100  # (D_h from the handout)\n",
        "num_layers = 1\n",
        "lr = 0.005\n",
        "\n",
        "model = OurModel(n_characters, hidden_size, n_characters, num_layers)\n",
        "optimizer = torch.optim.Adam(model.parameters(), lr=lr)\n",
        "criterion = nn.CrossEntropyLoss()\n",
        "\n",
        "start = time.time()\n",
        "all_losses = []\n",
        "loss_avg = 0\n",
        "\n",
        "for epoch in range(1, n_epochs + 1):\n",
        "    loss = train(*random_training_set())\n",
        "    loss_avg += loss\n",
        "\n",
        "    if epoch % print_every == 0:\n",
        "        print(f'[time elapsed: {time_since(start)}  ;  epochs: {epoch} ({epoch / n_epochs * 100}%)  ;  loss: {loss:.4}]')\n",
        "        print(evaluate('Wh', 200), '\\n')  # generate text starting with 'Wh'\n",
        "\n",
        "    if epoch % plot_every == 0:\n",
        "        all_losses.append(loss_avg / plot_every)\n",
        "        loss_avg = 0"
      ]
    },
    {
      "cell_type": "markdown",
      "metadata": {
        "deletable": false,
        "editable": false,
        "id": "dXeVkk298qLw",
        "nbgrader": {
          "cell_type": "markdown",
          "checksum": "8584d3be75d90a5197e7133411e0021d",
          "grade": false,
          "grade_id": "cell-ff9d72dafefa0a23",
          "locked": true,
          "schema_version": 3,
          "solution": false,
          "task": false
        }
      },
      "source": [
        "### Training Loss\n",
        "\n",
        "Plotting the the losses that were computed during training can provide a further indication that the network was indeed learning (Add your plot to the final submission pdf)."
      ]
    },
    {
      "cell_type": "code",
      "execution_count": 12,
      "metadata": {
        "colab": {
          "base_uri": "https://localhost:8080/",
          "height": 468
        },
        "deletable": false,
        "editable": false,
        "id": "S2SZanbV8qLw",
        "nbgrader": {
          "cell_type": "code",
          "checksum": "357a8a13a77f5e3b3e336e022dc596d4",
          "grade": false,
          "grade_id": "cell-f91bb597844b8f7d",
          "locked": true,
          "schema_version": 3,
          "solution": false,
          "task": false
        },
        "outputId": "dabb4415-604f-4cc2-ca65-5a2d4a1c570d",
        "pycharm": {
          "is_executing": false
        }
      },
      "outputs": [
        {
          "data": {
            "text/plain": [
              "[<matplotlib.lines.Line2D at 0x7c4fd7aa30d0>]"
            ]
          },
          "execution_count": 12,
          "metadata": {},
          "output_type": "execute_result"
        },
        {
          "data": {
            "image/png": "[encoded data removed]",
            "text/plain": [
              "<Figure size 640x480 with 1 Axes>"
            ]
          },
          "metadata": {},
          "output_type": "display_data"
        }
      ],
      "source": [
        "import matplotlib.pyplot as plt\n",
        "%matplotlib inline\n",
        "\n",
        "plt.grid(True)\n",
        "plt.xlabel('# of epochs (divided by plot_every)')\n",
        "plt.ylabel('average loss')\n",
        "plt.plot(all_losses)"
      ]
    },
    {
      "cell_type": "code",
      "execution_count": 24,
      "metadata": {
        "colab": {
          "base_uri": "https://localhost:8080/"
        },
        "id": "r7kOWqjAQLbD",
        "outputId": "4a72eff6-f860-41c9-95d7-fabf803486e4"
      },
      "outputs": [
        {
          "name": "stdout",
          "output_type": "stream",
          "text": [
            "RNN Shakespeare Perplexity: 7.115490829497217\n",
            "RNN Wikipedia Perplexity: 18.972436053296256\n",
            "RNN Shakespeare Perplexity preprocessed: 7.088679451635923\n",
            "RNN Wikipedia Perplexity preprocessed: 16.33134999521697\n"
          ]
        }
      ],
      "source": [
        "import numpy as np\n",
        "from string import ascii_letters, digits, punctuation\n",
        "import unidecode\n",
        "import re\n",
        "def open_file(file_path):\n",
        "    with open(file_path, 'r', encoding='utf-8') as file:\n",
        "        file_contents = file.read()\n",
        "    return unidecode.unidecode(file_contents)\n",
        "\n",
        "def preprocess_text(text, type):\n",
        "\n",
        "    replacements = {\n",
        "        \"'tis\": \"it is\",\n",
        "        \"i' the\": \"in the\",\n",
        "        \"o'er\": \"over\",\n",
        "        \"gan\": \"began\",\n",
        "        \"ne'er\": \"never\",\n",
        "    }\n",
        "    for archaic, modern in replacements.items():\n",
        "        text = text.replace(archaic, modern)\n",
        "    if type == \"wikipedia\":\n",
        "      text = text.lower()  # Convert to lowercase\n",
        "      text = re.sub(r'[\\r\\n]+', ' ', text)  # Replace newlines with spaces\n",
        "      text = re.sub(r'[\\s]+', ' ', text)  # Replace multiple spaces with a single space\n",
        "    return text.strip()\n",
        "\n",
        "def open_file_improved(file_path, type):\n",
        "    with open(file_path, 'r', encoding='utf-8') as file:\n",
        "        file_contents = file.read()\n",
        "    processed_text = preprocess_text(unidecode.unidecode(file_contents), type)\n",
        "    return processed_text\n",
        "\n",
        "def preplexity(eval_data_path):\n",
        "\n",
        "    temperature = 0.8\n",
        "    data = open_file(eval_data_path)\n",
        "    hidden = model.init_hidden()\n",
        "\n",
        "    perplexity_coeff = 0\n",
        "    for i in range(len(data) - 1):\n",
        "      try:\n",
        "        model_output, hidden = model(chars_to_tensor(data[i]), hidden)\n",
        "        output_dist =  F.softmax(model_output / temperature, dim=-1)\n",
        "\n",
        "        ind = all_characters.index(data[i + 1])\n",
        "\n",
        "      except ValueError:\n",
        "        continue\n",
        "\n",
        "      next_character_dist = output_dist[0][ind]\n",
        "      dist = next_character_dist.item()\n",
        "      perplexity_coeff += np.log2(dist)\n",
        "\n",
        "\n",
        "    perplexity = 2 ** (- perplexity_coeff / len(data))\n",
        "    return perplexity\n",
        "\n",
        "def perplexity_improved(eval_data_path, type):\n",
        "    temperature = 0.8\n",
        "    data = open_file_improved(eval_data_path, type)\n",
        "    hidden = model.init_hidden()\n",
        "\n",
        "    perplexity_coeff = 0\n",
        "    for i in range(len(data) - 1):\n",
        "      try:\n",
        "        model_output, hidden = model(chars_to_tensor(data[i]), hidden)\n",
        "        output_dist =  F.softmax(model_output / temperature, dim=-1)\n",
        "\n",
        "        ind = all_characters.index(data[i + 1])\n",
        "\n",
        "      except ValueError:\n",
        "        continue\n",
        "\n",
        "      next_character_dist = output_dist[0][ind]\n",
        "      dist = next_character_dist.item()\n",
        "      perplexity_coeff += np.log2(dist)\n",
        "\n",
        "\n",
        "    perplexity = 2 ** (- perplexity_coeff / len(data))\n",
        "    return perplexity\n",
        "\n",
        "print(\"RNN Shakespeare Perplexity: \" + str(preplexity(\"./shakespeare_for_perplexity.txt\")))\n",
        "print(\"RNN Wikipedia Perplexity: \" + str(preplexity(\"./wikipedia_for_perplexity.txt\")))\n",
        "#q3d\n",
        "print(\"RNN Shakespeare Perplexity preprocessed: \" + str(perplexity_improved(\"./shakespeare_for_perplexity.txt\", \"shakespeare\")))\n",
        "print(\"RNN Wikipedia Perplexity preprocessed: \" + str(perplexity_improved(\"./wikipedia_for_perplexity.txt\", \"wikipedia\")))\n"
      ]
    }
  ],
  "metadata": {
    "accelerator": "GPU",
    "anaconda-cloud": {},
    "colab": {
      "gpuType": "T4",
      "provenance": []
    },
    "kernelspec": {
      "display_name": "Python 3",
      "name": "python3"
    },
    "language_info": {
      "codemirror_mode": {
        "name": "ipython",
        "version": 3
      },
      "file_extension": ".py",
      "mimetype": "text/x-python",
      "name": "python",
      "nbconvert_exporter": "python",
      "pygments_lexer": "ipython3",
      "version": "3.8.0"
    },
    "pycharm": {
      "stem_cell": {
        "cell_type": "raw",
        "metadata": {
          "collapsed": false
        },
        "source": []
      }
    }
  },
  "nbformat": 4,
  "nbformat_minor": 0
}
